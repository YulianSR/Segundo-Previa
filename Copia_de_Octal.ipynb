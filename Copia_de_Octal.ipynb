{
  "nbformat": 4,
  "nbformat_minor": 0,
  "metadata": {
    "colab": {
      "name": "Copia de Octal",
      "provenance": [],
      "collapsed_sections": []
    },
    "kernelspec": {
      "name": "python3",
      "display_name": "Python 3"
    },
    "language_info": {
      "name": "python"
    }
  },
  "cells": [
    {
      "cell_type": "code",
      "metadata": {
        "id": "2ZSZQm8UZebn"
      },
      "source": [
        "#Punto 1 Creación de una clase\n",
        "class Octal:\n",
        "  pass\n",
        "\n",
        "a = Octal()"
      ],
      "execution_count": null,
      "outputs": []
    },
    {
      "cell_type": "code",
      "metadata": {
        "colab": {
          "base_uri": "https://localhost:8080/"
        },
        "id": "M6_byHBjaRwy",
        "outputId": "58acc3d4-f95e-498f-eeff-35794c836b92"
      },
      "source": [
        "#Punto 2 Ejemplo de contenido\n",
        "class Octal:\n",
        "  def __init__(self):\n",
        "    print(\"Este es el constructor\")\n",
        "a = Octal()"
      ],
      "execution_count": null,
      "outputs": [
        {
          "output_type": "stream",
          "name": "stdout",
          "text": [
            "Este es el constructor\n"
          ]
        }
      ]
    },
    {
      "cell_type": "code",
      "metadata": {
        "colab": {
          "base_uri": "https://localhost:8080/"
        },
        "id": "6cn1yyDcaeuF",
        "outputId": "f44ad350-9c5c-4e0b-e2f5-d765475d088b"
      },
      "source": [
        "#Punto 3 Agregar contenido dentro de la clase\n",
        "class Octal:\n",
        "  def __init__(self, dato):\n",
        "    self.dato = dato\n",
        "\n",
        "a = Octal(\"37401\")\n",
        "print( a.dato )"
      ],
      "execution_count": null,
      "outputs": [
        {
          "output_type": "stream",
          "name": "stdout",
          "text": [
            "37401\n"
          ]
        }
      ]
    },
    {
      "cell_type": "code",
      "metadata": {
        "colab": {
          "base_uri": "https://localhost:8080/"
        },
        "id": "VjfuVUWobi5c",
        "outputId": "504bea11-eedf-4c2b-c890-ab31a61e4d93"
      },
      "source": [
        "#Punto 4 Agregamos más contenido y ahora lo visualizamos con string\n",
        "class Octal:\n",
        "  def __init__(self, dato):\n",
        "    self.dato = dato\n",
        "  def string(self):\n",
        "    print(self.dato)\n",
        "\n",
        "a = Octal(\"37401\")\n",
        "a.string()"
      ],
      "execution_count": null,
      "outputs": [
        {
          "output_type": "stream",
          "name": "stdout",
          "text": [
            "37401\n"
          ]
        }
      ]
    },
    {
      "cell_type": "code",
      "metadata": {
        "colab": {
          "base_uri": "https://localhost:8080/"
        },
        "id": "BOwlRaiyc0Z0",
        "outputId": "15a3439f-619c-4492-d5ce-98e131b176f5"
      },
      "source": [
        "#Punto 5 Pasamos los caracteres a una nueva lista\n",
        "class Octal:\n",
        "  def __init__(self, cadena_octal):\n",
        "    self.cadena_octal = cadena_octal\n",
        "    self.lista_octal = list(self.cadena_octal)\n",
        "  def string(self):\n",
        "    print(self.cadena_octal)\n",
        "    print(self.lista_octal)\n",
        "\n",
        "a = Octal(\"37401\")\n",
        "a.string()"
      ],
      "execution_count": null,
      "outputs": [
        {
          "output_type": "stream",
          "name": "stdout",
          "text": [
            "37401\n",
            "['3', '7', '4', '0', '1']\n"
          ]
        }
      ]
    },
    {
      "cell_type": "code",
      "metadata": {
        "colab": {
          "base_uri": "https://localhost:8080/"
        },
        "id": "mXf4B8mxfGEj",
        "outputId": "0cf5b117-453c-49cc-d023-559ce6554345"
      },
      "source": [
        "#Punto 6 Convertimos los caracteres de la lista en numeros \n",
        "class Octal:\n",
        "  def __init__(self, cadena_octal):\n",
        "    self.cadena_octal = cadena_octal\n",
        "    self.lista_octal = list(self.cadena_octal)\n",
        "    i = 0\n",
        "    for dato in self.lista_octal:\n",
        "      self.lista_octal[i] = int(dato)\n",
        "      i = i + 1\n",
        "\n",
        "  def string(self):\n",
        "    print(self.cadena_octal)\n",
        "    print(self.lista_octal)\n",
        "\n",
        "a = Octal(\"37401\")\n",
        "a.string()"
      ],
      "execution_count": null,
      "outputs": [
        {
          "output_type": "stream",
          "name": "stdout",
          "text": [
            "37401\n",
            "[3, 7, 4, 0, 1]\n"
          ]
        }
      ]
    },
    {
      "cell_type": "code",
      "metadata": {
        "colab": {
          "base_uri": "https://localhost:8080/"
        },
        "id": "Hw04Xt0JfGXZ",
        "outputId": "07822c36-8b73-4577-c004-63b6dfeda4ef"
      },
      "source": [
        "#Punto 7 Invertimos la lista para hacer correctamente la conversión\n",
        "class Octal:\n",
        "  lista_octal = []\n",
        "\n",
        "  def __init__(self, cadena_octal):\n",
        "    self.cadena_octal = cadena_octal\n",
        "    self.lista_octal = list(self.cadena_octal)\n",
        "\n",
        "    i = 0\n",
        "    for dato in self.lista_octal:\n",
        "      self.lista_octal[i] = int(dato)\n",
        "      i = i + 1\n",
        "    self.lista_octal = list(reversed(self.lista_octal))\n",
        "  def string(self):\n",
        "    print(self.cadena_octal)\n",
        "    print(self.lista_octal)\n",
        "\n",
        "a = Octal(\"37401\")\n",
        "a.string()"
      ],
      "execution_count": null,
      "outputs": [
        {
          "output_type": "stream",
          "name": "stdout",
          "text": [
            "37401\n",
            "[1, 0, 4, 7, 3]\n"
          ]
        }
      ]
    },
    {
      "cell_type": "code",
      "metadata": {
        "colab": {
          "base_uri": "https://localhost:8080/"
        },
        "id": "X31cVWrJl8i_",
        "outputId": "0be35645-ca4c-4535-e0aa-4ec2ff352ee3"
      },
      "source": [
        "#Punto 8 Agregamos \"Decimal\" el cual por medio de un ciclo se encargara de hacer la conversión de cada uno de los numeros, los cuales llevan base 8\n",
        "class Octal:\n",
        "  base = 8\n",
        "  lista_octal = []\n",
        "\n",
        "  def __init__(self, cadena_octal):\n",
        "    self.cadena_octal = cadena_octal\n",
        "    self.lista_octal = list(self.cadena_octal)\n",
        "\n",
        "    i = 0\n",
        "    for dato in self.lista_octal:\n",
        "      self.lista_octal[i] = int(dato)\n",
        "      i = i + 1\n",
        "\n",
        "    self.lista_octal = list(reversed(self.lista_octal))\n",
        "\n",
        "  def decimal(self):\n",
        "    numero_decimal = 0\n",
        "    i = 0\n",
        "    for dato in self.lista_octal:\n",
        "      numero_decimal += self.base**i * self.lista_octal[i]\n",
        "      i = i + 1\n",
        "    return numero_decimal\n",
        "\n",
        "  def string(self):\n",
        "    print(self.cadena_octal)\n",
        "    print(self.lista_octal)\n",
        "\n",
        "a = Octal( \"37401\" )\n",
        "a.string()\n",
        "print(a.decimal())"
      ],
      "execution_count": null,
      "outputs": [
        {
          "output_type": "stream",
          "name": "stdout",
          "text": [
            "37401\n",
            "[1, 0, 4, 7, 3]\n",
            "16129\n"
          ]
        }
      ]
    }
  ]
}